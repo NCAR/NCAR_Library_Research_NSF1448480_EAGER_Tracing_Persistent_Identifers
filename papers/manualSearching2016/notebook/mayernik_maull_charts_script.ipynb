{
 "cells": [
  {
   "cell_type": "code",
   "execution_count": 146,
   "metadata": {
    "collapsed": true
   },
   "outputs": [],
   "source": [
    "%matplotlib inline\n",
    "import pandas as pd\n",
    "import matplotlib.pyplot as plt\n",
    "from collections import Counter\n",
    "import re\n",
    "import numpy as np"
   ]
  },
  {
   "cell_type": "code",
   "execution_count": 2,
   "metadata": {
    "collapsed": true
   },
   "outputs": [],
   "source": [
    "# This script takes two files as input and generates three images. \n",
    "# The filenames in the input commands and the name of the resource need to be configured. "
   ]
  },
  {
   "cell_type": "code",
   "execution_count": 176,
   "metadata": {
    "collapsed": false
   },
   "outputs": [],
   "source": [
    "# Insert the file name for the file of documents that reference the resource by name or other means\n",
    "# An example would be NCL-Name-Refs.csv\n",
    "df_name = pd.read_csv('')"
   ]
  },
  {
   "cell_type": "code",
   "execution_count": 177,
   "metadata": {
    "collapsed": false
   },
   "outputs": [],
   "source": [
    "# Insert the file name for the file of documents that reference the resource by its persistent identifier\n",
    "# An example would be NCL-DOI-Refs.csv\n",
    "df_ID = pd.read_csv('')"
   ]
  },
  {
   "cell_type": "code",
   "execution_count": 178,
   "metadata": {
    "collapsed": true
   },
   "outputs": [],
   "source": [
    "#This resource name will be used down below to generate the chart labels\n",
    "# Example - \"NCL-Software\"\n",
    "Resource = \"\""
   ]
  },
  {
   "cell_type": "code",
   "execution_count": 179,
   "metadata": {
    "collapsed": false
   },
   "outputs": [
    {
     "data": {
      "text/html": [
       "<div>\n",
       "<table border=\"1\" class=\"dataframe\">\n",
       "  <thead>\n",
       "    <tr style=\"text-align: right;\">\n",
       "      <th></th>\n",
       "      <th>﻿Doc-IDs</th>\n",
       "      <th>Reference-Code</th>\n",
       "      <th>Paper-Type</th>\n",
       "      <th>Pub-Date</th>\n",
       "    </tr>\n",
       "  </thead>\n",
       "  <tbody>\n",
       "    <tr>\n",
       "      <th>0</th>\n",
       "      <td>10.1002/2013JD021172</td>\n",
       "      <td>T</td>\n",
       "      <td>P</td>\n",
       "      <td>2014-03-27</td>\n",
       "    </tr>\n",
       "    <tr>\n",
       "      <th>1</th>\n",
       "      <td>10.1002/2013PA002535</td>\n",
       "      <td>T</td>\n",
       "      <td>P</td>\n",
       "      <td>2014-05</td>\n",
       "    </tr>\n",
       "    <tr>\n",
       "      <th>2</th>\n",
       "      <td>10.1002/2014GB005021</td>\n",
       "      <td>T</td>\n",
       "      <td>P</td>\n",
       "      <td>2015-06</td>\n",
       "    </tr>\n",
       "    <tr>\n",
       "      <th>3</th>\n",
       "      <td>10.1002/2015JD023266</td>\n",
       "      <td>T</td>\n",
       "      <td>P</td>\n",
       "      <td>2015-10-05</td>\n",
       "    </tr>\n",
       "    <tr>\n",
       "      <th>4</th>\n",
       "      <td>10.1002/2015JD023337</td>\n",
       "      <td>T</td>\n",
       "      <td>P</td>\n",
       "      <td>2015-10-23</td>\n",
       "    </tr>\n",
       "  </tbody>\n",
       "</table>\n",
       "</div>"
      ],
      "text/plain": [
       "               ﻿Doc-IDs Reference-Code Paper-Type    Pub-Date\n",
       "0  10.1002/2013JD021172              T          P  2014-03-27\n",
       "1  10.1002/2013PA002535              T          P     2014-05\n",
       "2  10.1002/2014GB005021              T          P     2015-06\n",
       "3  10.1002/2015JD023266              T          P  2015-10-05\n",
       "4  10.1002/2015JD023337              T          P  2015-10-23"
      ]
     },
     "execution_count": 179,
     "metadata": {},
     "output_type": "execute_result"
    }
   ],
   "source": [
    "# The four data series of interest are pulled out separately\n",
    "# Primary literature vs grey literature and references to the resource by name vs by the resources ID \n",
    "Primary_name = df_name[df_name['Paper-Type']==\"P\"]\n",
    "Grey_name = df_name[df_name['Paper-Type']==\"G\"]\n",
    "\n",
    "Primary_ID = df_ID[df_ID['Paper-Type']==\"P\"]\n",
    "Grey_ID = df_ID[df_ID['Paper-Type']==\"G\"]\n",
    "Primary_name.head(5)\n"
   ]
  },
  {
   "cell_type": "code",
   "execution_count": 180,
   "metadata": {
    "collapsed": false
   },
   "outputs": [
    {
     "data": {
      "text/plain": [
       "C    17\n",
       "A     6\n",
       "T     4\n",
       "Name: Reference-Code, dtype: int64"
      ]
     },
     "execution_count": 180,
     "metadata": {},
     "output_type": "execute_result"
    }
   ],
   "source": [
    "# Compile the counts for each reference type: Citation, Acknowledgement, and In-text reference\n",
    "Primary_name_ref_count = pd.value_counts(Primary_name['Reference-Code'])\n",
    "Grey_name_ref_count = pd.value_counts(Grey_name['Reference-Code'])\n",
    "\n",
    "Primary_ID_ref_count = pd.value_counts(Primary_ID['Reference-Code'])\n",
    "Grey_ID_ref_count = pd.value_counts(Grey_ID['Reference-Code'])\n",
    "Grey_ID_ref_count"
   ]
  },
  {
   "cell_type": "code",
   "execution_count": 181,
   "metadata": {
    "collapsed": false
   },
   "outputs": [],
   "source": [
    "# Define a function that can check to see if any of the reference types are not present, e.g.  no in-text references were found for a particular resource\n",
    "def f(a,b):\n",
    "    if len(b) == 2:\n",
    "        for j in \"A\",\"C\",\"T\":\n",
    "            if len(pd.value_counts(a['Reference-Code']==j)) == 1:\n",
    "                b[j]=0\n"
   ]
  },
  {
   "cell_type": "code",
   "execution_count": 182,
   "metadata": {
    "collapsed": false
   },
   "outputs": [
    {
     "data": {
      "text/plain": [
       "C    17\n",
       "A     6\n",
       "T     4\n",
       "Name: Reference-Code, dtype: int64"
      ]
     },
     "execution_count": 182,
     "metadata": {},
     "output_type": "execute_result"
    }
   ],
   "source": [
    "# Apply the function to each data series to standardize the data structure\n",
    "f(Grey_ID,Grey_ID_ref_count)\n",
    "f(Grey_name,Grey_name_ref_count)\n",
    "f(Primary_ID,Primary_ID_ref_count)\n",
    "f(Primary_name,Primary_name_ref_count)\n",
    "Grey_ID_ref_count"
   ]
  },
  {
   "cell_type": "code",
   "execution_count": 183,
   "metadata": {
    "collapsed": false
   },
   "outputs": [
    {
     "data": {
      "text/plain": [
       "C    17\n",
       "A     6\n",
       "T     4\n",
       "Name: Reference-Code, dtype: int64"
      ]
     },
     "execution_count": 183,
     "metadata": {},
     "output_type": "execute_result"
    }
   ],
   "source": [
    "# Reindex each series to ensure that they are all in the same order\n",
    "Grey_ID_ref_count = Grey_ID_ref_count.reindex(index = [\"C\",\"A\",\"T\"])\n",
    "Primary_ID_ref_count = Primary_ID_ref_count.reindex(index = [\"C\",\"A\",\"T\"])\n",
    "Grey_name_ref_count = Grey_name_ref_count.reindex(index = [\"C\",\"A\",\"T\"])\n",
    "Primary_name_ref_count = Primary_name_ref_count.reindex(index = [\"C\",\"A\",\"T\"])\n",
    "Grey_ID_ref_count"
   ]
  },
  {
   "cell_type": "code",
   "execution_count": 44,
   "metadata": {
    "collapsed": false
   },
   "outputs": [
    {
     "data": {
      "image/png": "[encoded data removed]",
      "text/plain": [
       "<matplotlib.figure.Figure at 0x9568438>"
      ]
     },
     "metadata": {},
     "output_type": "display_data"
    }
   ],
   "source": [
    "# Generate a bar chart for the documents that reference the resource by ID\n",
    "plt.figure(1)\n",
    "Bars = plt.subplot(221)\n",
    "P_I = plt.bar([1,4,7], Primary_ID_ref_count, align='center', alpha=0.5, color='b')\n",
    "G_I = plt.bar([2,5,8], Grey_ID_ref_count, align='center', alpha=0.5, color='r')\n",
    "plt.xticks([1.5,4.5,7.5], ['Citations','Acknowledgements','In-Text only'], fontsize=6)\n",
    "plt.ylabel('Documents')\n",
    "#If you wanted to add legends or title, use the following two commands\n",
    "#plt.legend([P_I,G_I],[\"Primary Lit.\",\"Grey Lit.\"])\n",
    "#plt.title('Documents that reference ' + Resource + \" by its ID\")\n",
    "\n",
    "# Generate a bar chart for the documents that reference the resource by name\n",
    "plt.subplot(222, sharey=Bars)\n",
    "P_N = plt.bar([1,4,7], Primary_name_ref_count, align='center', alpha=0.5, color='b')\n",
    "G_N = plt.bar([2,5,8], Grey_name_ref_count, align='center', alpha=0.5, color='r')\n",
    "plt.xticks([1.5,4.5,7.5], ['Citations','Acknowledgements','In-Text only'], fontsize=6)\n",
    "#If you wanted to add legends or title, use the following two commands\n",
    "#plt.legend([P_N,G_N],[\"Primary Lit.\",\"Grey Lit.\"], loc=2)\n",
    "#plt.title('Documents that reference ' + Resource + \" by other means\")\n",
    "plt.subplots_adjust(wspace = .2)\n",
    "\n",
    "plt.savefig(Resource + '-bar-combined', dpi=300)"
   ]
  },
  {
   "cell_type": "code",
   "execution_count": 212,
   "metadata": {
    "collapsed": false
   },
   "outputs": [
    {
     "data": {
      "text/plain": [
       "0    2014-03-27\n",
       "1       2014-05\n",
       "2       2015-06\n",
       "3    2015-10-05\n",
       "4    2015-10-23\n",
       "Name: Pub-Date, dtype: object"
      ]
     },
     "execution_count": 212,
     "metadata": {},
     "output_type": "execute_result"
    }
   ],
   "source": [
    "# The next analysis starts here - Generating a timeseries plot of the Primary references over time\n",
    "# This line simply shows the structure of the \"Pub-Date\" column\n",
    "Primary_name['Pub-Date'].head(5)"
   ]
  },
  {
   "cell_type": "code",
   "execution_count": 243,
   "metadata": {
    "collapsed": false
   },
   "outputs": [
    {
     "data": {
      "text/plain": [
       "{'2003': [1, 0],\n",
       " '2004': [1, 0],\n",
       " '2005': [1, 0],\n",
       " '2006': [5, 0],\n",
       " '2007': [4, 0],\n",
       " '2008': [11, 0],\n",
       " '2009': [12, 0],\n",
       " '2010': [14, 0],\n",
       " '2011': [18, 0],\n",
       " '2012': [27, 9],\n",
       " '2013': [37, 20],\n",
       " '2014': [41, 48],\n",
       " '2015': [39, 48],\n",
       " '2016': [18, 15]}"
      ]
     },
     "execution_count": 243,
     "metadata": {},
     "output_type": "execute_result"
    }
   ],
   "source": [
    "# Create an dictionary and compile the counts of publications in each year for the two categories of primary literature references\n",
    "# In the dictionary, the publications that reference the resource by Name come first, then the publications that reference the resource by its ID\n",
    "Pub_Years = {}\n",
    "\n",
    "# Compile the data\n",
    "for d in Primary_name['Pub-Date']:\n",
    "    date_info = re.split('-',d)\n",
    "    year = date_info[0]\n",
    "    if (year in Pub_Years) == False:\n",
    "        Pub_Years[year] = [1,0]\n",
    "    else:    \n",
    "        Pub_Years[year][0] += 1\n",
    "\n",
    "for d in Primary_ID['Pub-Date']:\n",
    "    date_info = re.split('-',d)\n",
    "    year = date_info[0]\n",
    "    if (year in Pub_Years) == False:\n",
    "        Pub_Years[year] = [0,1]\n",
    "    else:    \n",
    "        Pub_Years[year][1] += 1     \n",
    "\n",
    "Pub_Years"
   ]
  },
  {
   "cell_type": "code",
   "execution_count": 244,
   "metadata": {
    "collapsed": false
   },
   "outputs": [
    {
     "data": {
      "text/plain": [
       "{'2003': [1, 0],\n",
       " '2004': [1, 0],\n",
       " '2005': [1, 0],\n",
       " '2006': [5, 0],\n",
       " '2007': [4, 0],\n",
       " '2008': [11, 0],\n",
       " '2009': [12, 0],\n",
       " '2010': [14, 0],\n",
       " '2011': [18, 0],\n",
       " '2012': [27, 9],\n",
       " '2013': [37, 20],\n",
       " '2014': [41, 48],\n",
       " '2015': [39, 48]}"
      ]
     },
     "execution_count": 244,
     "metadata": {},
     "output_type": "execute_result"
    }
   ],
   "source": [
    "# Remove the articles from 2016 because there is not a complete year's worth of results.\n",
    "\n",
    "if \"2016\" in Pub_Years:\n",
    "    del Pub_Years[\"2016\"]\n",
    "\n",
    "Pub_Years"
   ]
  },
  {
   "cell_type": "code",
   "execution_count": 245,
   "metadata": {
    "collapsed": false
   },
   "outputs": [
    {
     "data": {
      "text/plain": [
       "[1, 1, 1, 5, 4, 11, 12, 14, 18, 27, 37, 41, 39]"
      ]
     },
     "execution_count": 245,
     "metadata": {},
     "output_type": "execute_result"
    }
   ],
   "source": [
    "# Generate two lists of data for plotting\n",
    "Name_stack = []\n",
    "ID_stack = []\n",
    "for i in sorted(Pub_Years):\n",
    "    Name_stack.append(Pub_Years[i][0])\n",
    "    ID_stack.append(Pub_Years[i][1])\n",
    "\n",
    "Name_stack"
   ]
  },
  {
   "cell_type": "code",
   "execution_count": 246,
   "metadata": {
    "collapsed": false,
    "scrolled": true
   },
   "outputs": [
    {
     "data": {
      "image/png": "[encoded data removed]",
      "text/plain": [
       "<matplotlib.figure.Figure at 0xad0a908>"
      ]
     },
     "metadata": {},
     "output_type": "display_data"
    }
   ],
   "source": [
    "# Create the timeseries plot\n",
    "N = len(Pub_Years) # the number of years in the plot\n",
    "\n",
    "ind = np.arange(N) # the x locations for the groups\n",
    "#ind = ind + 1\n",
    "width = .5    # the width of the bars\n",
    "\n",
    "fig, ax = plt.subplots()\n",
    "\n",
    "p1 = plt.bar(ind, Name_stack, width, color='black')\n",
    "p2 = plt.bar(ind, ID_stack, width, color='y',\n",
    "             bottom=Name_stack)\n",
    "\n",
    "plt.ylabel('Documents')\n",
    "plt.xticks(ind + width/2., [i for i in sorted(Pub_Years)])\n",
    "#plt.xticks(ind[0::2] + width/2., [i for i in (sorted(Pub_Years))[0::2]]) #this line was used for the NCL plot because the x labels were overlapping each other\n",
    "ax.set_xlim([0, N])\n",
    "#If you want a title & legend, use the following two commands\n",
    "#plt.title('Primary Literature References Per Year')\n",
    "#plt.legend((p1[0], p2[0]), ('References by Name', 'References by ID'), loc=2)\n",
    "plt.savefig(Resource + '-timeline', dpi=300)\n",
    "plt.show()\n"
   ]
  }
 ],
 "metadata": {
  "anaconda-cloud": {},
  "kernelspec": {
   "display_name": "Python [conda root]",
   "language": "python",
   "name": "conda-root-py"
  },
  "language_info": {
   "codemirror_mode": {
    "name": "ipython",
    "version": 3
   },
   "file_extension": ".py",
   "mimetype": "text/x-python",
   "name": "python",
   "nbconvert_exporter": "python",
   "pygments_lexer": "ipython3",
   "version": "3.5.2"
  }
 },
 "nbformat": 4,
 "nbformat_minor": 0
}
